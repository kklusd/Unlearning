{
 "cells": [
  {
   "cell_type": "code",
   "execution_count": 4,
   "id": "db9d4529-ae24-4f05-a30c-d083aa06cf4e",
   "metadata": {
    "tags": []
   },
   "outputs": [],
   "source": [
    "import torch\n",
    "import torch.nn as nn\n",
    "import torch.optim as optim\n",
    "import torchvision\n",
    "import torchvision.transforms as transforms\n",
    "from torch.utils.data import DataLoader\n",
    "from torchvision.models import resnet18"
   ]
  },
  {
   "cell_type": "code",
   "execution_count": 2,
   "id": "39dce73f-05f5-4aed-a417-d4f8ba50473c",
   "metadata": {
    "tags": []
   },
   "outputs": [],
   "source": [
    "# Load the CIFAR-10 dataset\n",
    "path = '/mnt/datasets'\n",
    "\n",
    "transform = transforms.Compose([\n",
    "    transforms.RandomHorizontalFlip(),\n",
    "    transforms.RandomCrop(32, padding=4),\n",
    "    transforms.ToTensor(),\n",
    "    transforms.Normalize((0.5, 0.5, 0.5), (0.5, 0.5, 0.5)),\n",
    "])\n",
    "\n",
    "trainset = torchvision.datasets.CIFAR10(root = path, train = True, \n",
    "                                             transform = transform, download = False)\n",
    "trainloader = DataLoader(trainset, batch_size = 100, shuffle = True, num_workers = 2)\n",
    " \n",
    "testset = torchvision.datasets.CIFAR10(root = path, train = False, \n",
    "                                             transform = transform, download = False)\n",
    "testloader = DataLoader(testset, batch_size = 100, shuffle = False, num_workers = 2)\n"
   ]
  },
  {
   "cell_type": "code",
   "execution_count": null,
   "id": "dcee5a98-0706-49aa-9a87-0a9f6602273a",
   "metadata": {
    "scrolled": true,
    "tags": []
   },
   "outputs": [
    {
     "name": "stdout",
     "output_type": "stream",
     "text": [
      "Epoch 1, Loss: 2.0772085835933685\n",
      "Epoch 2, Loss: 1.5157153403759003\n",
      "Epoch 3, Loss: 1.3099504961967467\n",
      "Epoch 4, Loss: 1.1714966517686844\n",
      "Epoch 5, Loss: 1.0782042129039764\n",
      "Epoch 6, Loss: 1.0164430745840072\n",
      "Epoch 7, Loss: 0.9684172339439392\n",
      "Epoch 8, Loss: 0.9324923511743546\n",
      "Epoch 9, Loss: 0.8930025655031204\n",
      "Epoch 10, Loss: 0.8725947428941727\n",
      "Epoch 11, Loss: 0.8603321393728256\n",
      "Epoch 12, Loss: 0.8469131374359131\n",
      "Epoch 13, Loss: 0.8317745009660721\n",
      "Epoch 14, Loss: 0.8205407214164734\n",
      "Epoch 15, Loss: 0.8130366908311843\n",
      "Epoch 16, Loss: 0.8045880342721939\n",
      "Epoch 37, Loss: 0.3934302118122578\n",
      "Epoch 38, Loss: 0.38055060973763466\n",
      "Epoch 39, Loss: 0.37114668959379193\n",
      "Epoch 40, Loss: 0.36356905502080916\n",
      "Epoch 41, Loss: 0.3607530941367149\n",
      "Epoch 43, Loss: 0.3500710208117962\n",
      "Epoch 50, Loss: 0.3324847225546837\n",
      "Epoch 51, Loss: 0.32637508153915407\n",
      "Epoch 52, Loss: 0.3287258842587471\n",
      "Epoch 53, Loss: 0.32636810207366945\n",
      "Epoch 54, Loss: 0.3268858152627945\n",
      "Epoch 55, Loss: 0.3140726448595524\n",
      "Epoch 56, Loss: 0.31822402733564376\n",
      "Epoch 57, Loss: 0.3195781023800373\n",
      "Epoch 58, Loss: 0.31909431236982344\n",
      "Epoch 59, Loss: 0.3167513012588024\n",
      "Epoch 60, Loss: 0.3118032763749361\n",
      "Epoch 61, Loss: 0.23481815588474272\n",
      "Epoch 62, Loss: 0.20384093628823757\n",
      "Epoch 63, Loss: 0.19226040537655353\n",
      "Epoch 64, Loss: 0.18388621519505977\n",
      "Epoch 65, Loss: 0.1761503593996167\n",
      "Epoch 66, Loss: 0.17421166811883448\n",
      "Epoch 67, Loss: 0.16788138651102782\n",
      "Epoch 68, Loss: 0.162346427179873\n",
      "Epoch 69, Loss: 0.1622187242358923\n",
      "Epoch 70, Loss: 0.15786812185123564\n",
      "Epoch 71, Loss: 0.15395204860717057\n",
      "Epoch 72, Loss: 0.15208142477273942\n",
      "Epoch 73, Loss: 0.14708178317546844\n",
      "Epoch 74, Loss: 0.1415195004492998\n",
      "Epoch 75, Loss: 0.1394605826511979\n",
      "Epoch 76, Loss: 0.1372307203412056\n",
      "Epoch 77, Loss: 0.132915293186903\n",
      "Epoch 78, Loss: 0.1318937970586121\n",
      "Epoch 79, Loss: 0.12865228943526744\n",
      "Epoch 80, Loss: 0.1278457725085318\n",
      "Epoch 81, Loss: 0.12511708685010672\n",
      "Epoch 82, Loss: 0.12653622487932445\n",
      "Epoch 83, Loss: 0.12107278406247497\n",
      "Epoch 84, Loss: 0.11988857949152588\n",
      "Epoch 85, Loss: 0.11560861130803823\n",
      "Epoch 86, Loss: 0.11227369545772671\n",
      "Epoch 87, Loss: 0.11458217769861222\n",
      "Epoch 88, Loss: 0.11111654384806752\n",
      "Epoch 89, Loss: 0.10904189101606608\n"
     ]
    }
   ],
   "source": [
    "#Define the ResNet architecture\n",
    "device = torch.device(\"cuda:0\" if torch.cuda.is_available() else \"cpu\") \n",
    "\n",
    "model = resnet18(pretrained=False, num_classes=10).to(device)\n",
    "\n",
    "\n",
    "# Train the model\n",
    "criterion = nn.CrossEntropyLoss()\n",
    "optimizer = optim.SGD(model.parameters(), lr = 0.1, momentum = 0.9, weight_decay = 5e-4)\n",
    "scheduler = optim.lr_scheduler.StepLR(optimizer, step_size=30, gamma=0.1)\n",
    "\n",
    "num_epochs = 100\n",
    "for epoch in range(num_epochs):\n",
    "    running_loss = 0.0\n",
    "    for i, data in enumerate(trainloader, 0):\n",
    "        inputs, labels = data\n",
    "        inputs, labels = inputs.to(device), labels.to(device)\n",
    "\n",
    "        optimizer.zero_grad()\n",
    "\n",
    "        outputs = model(inputs)\n",
    "        loss = criterion(outputs, labels)\n",
    "        loss.backward()\n",
    "        optimizer.step()\n",
    "\n",
    "        running_loss += loss.item()\n",
    "    scheduler.step()\n",
    "\n",
    "    print(f\"Epoch {epoch+1}, Loss: {running_loss / (i + 1)}\")\n",
    "\n",
    "print(\"Finished Training\")"
   ]
  },
  {
   "cell_type": "code",
   "execution_count": null,
   "id": "f3da0582-9fc9-47bf-9292-f37349ba96d7",
   "metadata": {
    "tags": []
   },
   "outputs": [],
   "source": [
    "#Evaluate the model\n",
    "correct = 0\n",
    "total = 0\n",
    "with torch.no_grad():\n",
    "    for data in testloader:\n",
    "        images, labels = data\n",
    "        images, labels = images.to(device), labels.to(device)\n",
    "        outputs = model(images)\n",
    "        _, predicted = torch.max(outputs.data, 1)\n",
    "        total += labels.size(0)\n",
    "        correct += (predicted == labels).sum().item()\n",
    "\n",
    "print(f\"Accuracy of the network on the 10000 test images: {100 * correct / total}%\")"
   ]
  },
  {
   "cell_type": "code",
   "execution_count": null,
   "id": "eeb9c52b-1281-4d3b-a0a7-84323afaca42",
   "metadata": {
    "tags": []
   },
   "outputs": [],
   "source": [
    "torch.save(model, '/mnt/Codes/Resnet18_c10.pth')"
   ]
  },
  {
   "cell_type": "code",
   "execution_count": null,
   "id": "7731371b-3461-426a-8d09-c427ef2a710a",
   "metadata": {},
   "outputs": [],
   "source": [
    "model = torch.load('/mnt/Codes/Resnet18_c10.pth')"
   ]
  }
 ],
 "metadata": {
  "kernelspec": {
   "display_name": "myconda",
   "language": "python",
   "name": "myconda"
  },
  "language_info": {
   "codemirror_mode": {
    "name": "ipython",
    "version": 3
   },
   "file_extension": ".py",
   "mimetype": "text/x-python",
   "name": "python",
   "nbconvert_exporter": "python",
   "pygments_lexer": "ipython3",
   "version": "3.10.12"
  }
 },
 "nbformat": 4,
 "nbformat_minor": 5
}
